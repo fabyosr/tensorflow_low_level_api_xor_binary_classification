{
 "cells": [
  {
   "cell_type": "markdown",
   "metadata": {},
   "source": [
    "# XOR Binary Classification\n",
    "\n",
    " Xor Logical Operator | Neural Network\n",
    ":-:|:-:\n",
    "![x_and_y](img/xor_operator.png) | ![x_and_y](img/neural_network.png)"
   ]
  },
  {
   "cell_type": "markdown",
   "metadata": {},
   "source": [
    "# 0 - IMPORTS"
   ]
  },
  {
   "cell_type": "code",
   "execution_count": 19,
   "metadata": {
    "ExecuteTime": {
     "end_time": "2020-12-07T15:38:23.822803Z",
     "start_time": "2020-12-07T15:38:23.817815Z"
    }
   },
   "outputs": [],
   "source": [
    "import tensorflow as tf\n",
    "import numpy as np\n",
    "import warnings\n",
    "\n",
    "\n",
    "warnings.filterwarnings('ignore')"
   ]
  },
  {
   "cell_type": "markdown",
   "metadata": {},
   "source": [
    "# 1 - CREATE X, y VARIABLES"
   ]
  },
  {
   "cell_type": "code",
   "execution_count": 10,
   "metadata": {
    "ExecuteTime": {
     "end_time": "2020-12-07T15:12:13.291227Z",
     "start_time": "2020-12-07T15:12:13.285247Z"
    }
   },
   "outputs": [
    {
     "name": "stdout",
     "output_type": "stream",
     "text": [
      "X Values\n",
      " [[0 0]\n",
      " [0 1]\n",
      " [1 0]\n",
      " [1 1]] \n",
      "\n",
      "y Values\n",
      " [[0]\n",
      " [1]\n",
      " [1]\n",
      " [0]]\n"
     ]
    }
   ],
   "source": [
    "X = np.array([[0,0], [0,1], [1,0], [1,1]])\n",
    "print('X Values\\n', X, '\\n')\n",
    "\n",
    "y = np.array([[0], [1], [1], [0]])\n",
    "print('y Values\\n', y)"
   ]
  },
  {
   "cell_type": "markdown",
   "metadata": {},
   "source": [
    "# 2 - NEURAL NETWORK STRUCTURE"
   ]
  },
  {
   "cell_type": "code",
   "execution_count": 11,
   "metadata": {
    "ExecuteTime": {
     "end_time": "2020-12-07T15:24:02.039055Z",
     "start_time": "2020-12-07T15:24:02.035066Z"
    }
   },
   "outputs": [],
   "source": [
    "input_layer  = 2\n",
    "hidden_layer = 3\n",
    "output_layer = 1"
   ]
  },
  {
   "cell_type": "markdown",
   "metadata": {},
   "source": [
    "# 3 - CREATE WEIGHT LAYERS VARIABLES"
   ]
  },
  {
   "cell_type": "code",
   "execution_count": 12,
   "metadata": {
    "ExecuteTime": {
     "end_time": "2020-12-07T15:24:04.788145Z",
     "start_time": "2020-12-07T15:24:04.024419Z"
    }
   },
   "outputs": [],
   "source": [
    "W = {'hidden': tf.Variable(tf.random_normal([input_layer, hidden_layer]), name = 'w_hidden'),  # weight hidden layer\n",
    "     'output': tf.Variable(tf.random_normal([hidden_layer, output_layer]), name = 'w_output')} # weight output layer"
   ]
  },
  {
   "cell_type": "markdown",
   "metadata": {},
   "source": [
    "# 4 - CREATE BIAS LAYERS VARIABLES"
   ]
  },
  {
   "cell_type": "code",
   "execution_count": 16,
   "metadata": {
    "ExecuteTime": {
     "end_time": "2020-12-07T15:32:38.891767Z",
     "start_time": "2020-12-07T15:32:38.859808Z"
    }
   },
   "outputs": [],
   "source": [
    "b = {'hidden': tf.Variable(tf.random_normal([hidden_layer]), name = 'b_hidden'),\n",
    "     'output': tf.Variable(tf.random_normal([output_layer]), name = 'b_output')}"
   ]
  },
  {
   "cell_type": "markdown",
   "metadata": {},
   "source": [
    "# 5 - CREATE PLACEHOLDERS"
   ]
  },
  {
   "cell_type": "code",
   "execution_count": 17,
   "metadata": {
    "ExecuteTime": {
     "end_time": "2020-12-07T15:38:10.218815Z",
     "start_time": "2020-12-07T15:38:10.211833Z"
    }
   },
   "outputs": [],
   "source": [
    "irows = 4\n",
    "xph = tf.placeholder(tf.float32, [irows, input_layer], name = 'xph')\n",
    "yph = tf.placeholder(tf.float32, [irows, output_layer], name = 'yph')"
   ]
  },
  {
   "cell_type": "markdown",
   "metadata": {},
   "source": [
    "# 6 - CREATE NEURAL NETWORKS TENSORS"
   ]
  },
  {
   "cell_type": "code",
   "execution_count": 20,
   "metadata": {
    "ExecuteTime": {
     "end_time": "2020-12-07T15:38:28.783569Z",
     "start_time": "2020-12-07T15:38:28.686828Z"
    }
   },
   "outputs": [],
   "source": [
    "# input layer to hidden layer operations\n",
    "hidden_layer_calc       = tf.add(tf.matmul(xph, W['hidden']), b['hidden'])\n",
    "hidden_layer_activation = tf.sigmoid(hidden_layer_calc)\n",
    "\n",
    "# hidden layer to output layer operations\n",
    "output_layer_calc       = tf.add(tf.matmul(hidden_layer_activation, W['output']), b['output'])\n",
    "output_layer_activation = tf.sigmoid(output_layer_calc)\n",
    "\n",
    "# mean squared error\n",
    "error                   = tf.losses.mean_squared_error(yph, output_layer_activation)\n",
    "\n",
    "# minimize error\n",
    "optimizer               = tf.train.GradientDescentOptimizer(learning_rate = 0.3).minimize(error)"
   ]
  },
  {
   "cell_type": "markdown",
   "metadata": {},
   "source": [
    "# 7 - RUN TENSORFLOW, TRAINING NEURAL NETWORK"
   ]
  },
  {
   "cell_type": "code",
   "execution_count": 21,
   "metadata": {
    "ExecuteTime": {
     "end_time": "2020-12-07T15:47:11.790148Z",
     "start_time": "2020-12-07T15:47:11.784164Z"
    }
   },
   "outputs": [],
   "source": [
    "init = tf.global_variables_initializer()"
   ]
  },
  {
   "cell_type": "code",
   "execution_count": 23,
   "metadata": {
    "ExecuteTime": {
     "end_time": "2020-12-07T15:49:07.998941Z",
     "start_time": "2020-12-07T15:49:05.246304Z"
    }
   },
   "outputs": [
    {
     "name": "stdout",
     "output_type": "stream",
     "text": [
      "0.06465006619691849\n",
      "0.061972007155418396\n",
      "0.06102719530463219\n",
      "0.05928775295615196\n",
      "0.05635208263993263\n",
      "0.05219634622335434\n",
      "0.04727141931653023\n",
      "0.04140934348106384\n",
      "0.03413872420787811\n",
      "0.02574206329882145\n",
      "0.018057946115732193\n",
      "0.012471776455640793\n",
      "0.008845318108797073\n",
      "0.006537177599966526\n",
      "0.005031747743487358\n",
      "0.004011303186416626\n",
      "0.0032917524222284555\n",
      "0.002765849232673645\n",
      "0.0023693081457167864\n",
      "0.0020622066222131252\n",
      "0.0018188818357884884\n",
      "0.0016222787089645863\n",
      "0.0014607226476073265\n",
      "0.0013260107953101397\n",
      "0.0012122401967644691\n",
      "0.001115074148401618\n",
      "0.0010312602389603853\n",
      "0.0009583269711583853\n",
      "0.0008943575667217374\n",
      "0.0008378529455512762\n",
      "0.0007876235758885741\n",
      "0.0007427131640724838\n",
      "0.000702343531884253\n",
      "0.0006658837664872408\n",
      "0.0006328057497739792\n",
      "0.0006026765331625938\n",
      "0.0005751300486736\n",
      "0.0005498561076819897\n",
      "0.0005265934159979224\n",
      "0.0005051158368587494\n",
      "0.0004852325364481658\n",
      "0.00046677771024405956\n",
      "0.00044960490777157247\n",
      "0.0004335902922321111\n",
      "0.00041862131911329925\n",
      "0.0004046039539389312\n",
      "0.0003914498374797404\n",
      "0.00037908487138338387\n",
      "0.00036744173849001527\n",
      "0.00035646092146635056\n"
     ]
    }
   ],
   "source": [
    "with tf.Session() as sess:\n",
    "    sess.run(init)\n",
    "    #print(sess.run(W['oculta']))\n",
    "    #print(sess.run(W['saida']))\n",
    "    #print(sess.run(b['oculta']))\n",
    "    #print('\\n')\n",
    "    #print(sess.run(b['saida']))\n",
    "    #print(sess.run(camada_oculta, feed_dict = {xph: X}))\n",
    "    #print(sess.run(camada_oculta_ativacao, feed_dict = {xph: X}))\n",
    "    #print(sess.run(camada_saida, feed_dict = {xph: X}))\n",
    "    #print(sess.run(camada_saida_ativacao, feed_dict = {xph: X}))\n",
    "    for epochs in range(10000):\n",
    "        mean_error = 0\n",
    "        _, cost = sess.run([optimizer, error], feed_dict = {xph: X, yph: y})\n",
    "        if epochs % 200 == 0:\n",
    "            #print(cost)\n",
    "            mean_error += cost / 4\n",
    "            print(mean_error)\n",
    "    W_final, b_final = sess.run([W, b])\n",
    "            "
   ]
  },
  {
   "cell_type": "code",
   "execution_count": 24,
   "metadata": {
    "ExecuteTime": {
     "end_time": "2020-12-07T15:49:16.392395Z",
     "start_time": "2020-12-07T15:49:16.360479Z"
    }
   },
   "outputs": [
    {
     "data": {
      "text/plain": [
       "{'hidden': array([[-6.1177316, -2.788611 , -4.6673865],\n",
       "        [-5.275525 , -4.782033 ,  3.144581 ]], dtype=float32),\n",
       " 'output': array([[-8.439485],\n",
       "        [ 7.705766],\n",
       "        [ 4.255086]], dtype=float32)}"
      ]
     },
     "execution_count": 24,
     "metadata": {},
     "output_type": "execute_result"
    }
   ],
   "source": [
    "# Final Weights\n",
    "W_final"
   ]
  },
  {
   "cell_type": "code",
   "execution_count": 25,
   "metadata": {
    "ExecuteTime": {
     "end_time": "2020-12-07T15:49:23.067770Z",
     "start_time": "2020-12-07T15:49:23.061786Z"
    }
   },
   "outputs": [
    {
     "data": {
      "text/plain": [
       "{'hidden': array([ 2.249805 ,  5.345482 , -2.0992012], dtype=float32),\n",
       " 'output': array([-3.91807], dtype=float32)}"
      ]
     },
     "execution_count": 25,
     "metadata": {},
     "output_type": "execute_result"
    }
   ],
   "source": [
    "# Final Bias weights\n",
    "b_final"
   ]
  },
  {
   "cell_type": "code",
   "execution_count": 28,
   "metadata": {
    "ExecuteTime": {
     "end_time": "2020-12-07T15:53:31.842074Z",
     "start_time": "2020-12-07T15:53:31.825941Z"
    }
   },
   "outputs": [],
   "source": [
    "# test neural network\n",
    "test_hidden_layer            = tf.add(tf.matmul(xph, W_final['hidden']), b_final['hidden'])\n",
    "test_hidden_layer_activation = tf.sigmoid(test_hidden_layer)\n",
    "\n",
    "test_output_layer            = tf.add(tf.matmul(test_hidden_layer_activation, W_final['output']), b_final['output'])\n",
    "test_output_layer_activation = tf.sigmoid(test_output_layer)"
   ]
  },
  {
   "cell_type": "code",
   "execution_count": 29,
   "metadata": {
    "ExecuteTime": {
     "end_time": "2020-12-07T15:53:42.891048Z",
     "start_time": "2020-12-07T15:53:42.856141Z"
    }
   },
   "outputs": [
    {
     "name": "stdout",
     "output_type": "stream",
     "text": [
      "[[0.03170761]\n",
      " [0.9770261 ]\n",
      " [0.9554363 ]\n",
      " [0.04492554]]\n"
     ]
    }
   ],
   "source": [
    "with tf.Session() as sess:\n",
    "    sess.run(init)\n",
    "    print(sess.run(camada_saida_ativacao_teste, feed_dict = {xph: X}))"
   ]
  }
 ],
 "metadata": {
  "kernelspec": {
   "display_name": "Python 3",
   "language": "python",
   "name": "python3"
  },
  "language_info": {
   "codemirror_mode": {
    "name": "ipython",
    "version": 3
   },
   "file_extension": ".py",
   "mimetype": "text/x-python",
   "name": "python",
   "nbconvert_exporter": "python",
   "pygments_lexer": "ipython3",
   "version": "3.7.9"
  }
 },
 "nbformat": 4,
 "nbformat_minor": 2
}
